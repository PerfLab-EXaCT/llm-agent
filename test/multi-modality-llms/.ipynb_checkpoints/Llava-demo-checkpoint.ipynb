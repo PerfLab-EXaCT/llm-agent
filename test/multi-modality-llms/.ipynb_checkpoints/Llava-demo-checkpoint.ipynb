{
 "cells": [
  {
   "cell_type": "code",
   "execution_count": null,
   "id": "82433895-8010-4e74-9d32-90bfa93bf156",
   "metadata": {},
   "outputs": [],
   "source": [
    "!pip install torch bitsandbytes transformers accelerate"
   ]
  },
  {
   "cell_type": "code",
   "execution_count": null,
   "id": "82de55a2-2839-430a-b688-cbffceaf5583",
   "metadata": {},
   "outputs": [],
   "source": [
    "from PIL import Image\n",
    "from IPython.display import display\n",
    "\n",
    "image = Image.open('prism_output_images/mp-1265/mp-1265_0_1_0_angle_45_100nm_combo_3_ABF.tiff')\n",
    "display(image)"
   ]
  },
  {
   "cell_type": "code",
   "execution_count": null,
   "id": "31ad1de3-7361-4bf6-8958-af9a22a36a81",
   "metadata": {},
   "outputs": [],
   "source": [
    "import torch\n",
    "from transformers import BitsAndBytesConfig\n",
    "\n",
    "quantization_config = BitsAndBytesConfig(\n",
    "    load_in_4bit=True,\n",
    "    bnb_4bit_compute_dtype=torch.float16\n",
    ")"
   ]
  },
  {
   "cell_type": "code",
   "execution_count": null,
   "id": "77ab5503-34e4-4553-be0c-2215b63b7979",
   "metadata": {},
   "outputs": [],
   "source": [
    "from transformers import pipeline\n",
    "\n",
    "model_id = \"llava-hf/llava-1.5-7b-hf\"\n",
    "\n",
    "pipe = pipeline(\"image-to-text\", model=model_id, model_kwargs={\"quantization_config\": quantization_config})"
   ]
  },
  {
   "cell_type": "code",
   "execution_count": null,
   "id": "8c441271-22eb-4b87-9d72-153a655f3402",
   "metadata": {},
   "outputs": [],
   "source": [
    "max_new_tokens = 200\n",
    "prompt = \"USER: <image>\\nWhat do you think this image shows if I tell you it's science related?\\nASSISTANT:\"\n",
    "\n",
    "outputs = pipe(image, prompt=prompt, generate_kwargs={\"max_new_tokens\": 200})"
   ]
  },
  {
   "cell_type": "code",
   "execution_count": null,
   "id": "3054924d-69ae-461f-9bdc-bac53396948b",
   "metadata": {},
   "outputs": [],
   "source": [
    "print(outputs[0][\"generated_text\"])"
   ]
  }
 ],
 "metadata": {
  "kernelspec": {
   "display_name": "Python 3 (ipykernel)",
   "language": "python",
   "name": "python3"
  },
  "language_info": {
   "codemirror_mode": {
    "name": "ipython",
    "version": 3
   },
   "file_extension": ".py",
   "mimetype": "text/x-python",
   "name": "python",
   "nbconvert_exporter": "python",
   "pygments_lexer": "ipython3",
   "version": "3.11.5"
  }
 },
 "nbformat": 4,
 "nbformat_minor": 5
}
